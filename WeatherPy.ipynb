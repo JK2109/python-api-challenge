{
 "cells": [
  {
   "cell_type": "markdown",
   "metadata": {},
   "source": [
    "# WeatherPy\n",
    "----\n",
    "\n",
    "#### Note\n",
    "* Instructions have been included for each segment. You do not have to follow them exactly, but they are included to help you think through the steps."
   ]
  },
  {
   "cell_type": "markdown",
   "metadata": {},
   "source": [
    "# Observation\n",
    "* It has been proven that the temperature is higher as you are closer to equator. \n",
    "* Based on the analysis temperature is being observed as correlated to latitude. However, between the southern and northern hemisphere, it is shown that northern part is more senstive to latitude where furhter you are north from the equator, temperature tends to drop more significantly.\n",
    "* Wind speed, humidity, and cloudiness doesn't seem to be correlated to latitude"
   ]
  },
  {
   "cell_type": "code",
   "execution_count": 27,
   "metadata": {
    "scrolled": true
   },
   "outputs": [],
   "source": [
    "# Dependencies and Setup\n",
    "import matplotlib.pyplot as plt\n",
    "import pandas as pd\n",
    "import numpy as np\n",
    "import requests\n",
    "import time\n",
    "from pprint import pprint\n",
    "from scipy.stats import linregress\n",
    "\n",
    "\n",
    "# Import API key\n",
    "from api_keys import weather_api_key\n",
    "\n",
    "# Incorporated citipy to determine city based on latitude and longitude\n",
    "from citipy import citipy\n",
    "\n",
    "\n",
    "# Output File (CSV)\n",
    "# output_data_file = \"output_data/cities.csv\"\n",
    "\n",
    "# Range of latitudes and longitudes\n",
    "lat_range = (-90, 90)\n",
    "lng_range = (-180, 180)"
   ]
  },
  {
   "cell_type": "markdown",
   "metadata": {},
   "source": [
    "## Generate Cities List"
   ]
  },
  {
   "cell_type": "code",
   "execution_count": 28,
   "metadata": {},
   "outputs": [
    {
     "name": "stdout",
     "output_type": "stream",
     "text": [
      "609\n"
     ]
    }
   ],
   "source": [
    "# List for holding lat_lngs and cities\n",
    "lat_lngs = []\n",
    "cities = []\n",
    "\n",
    "# Create a set of random lat and lng combinations\n",
    "lats = np.random.uniform(lat_range[0], lat_range[1], size=1500)\n",
    "lngs = np.random.uniform(lng_range[0], lng_range[1], size=1500)\n",
    "lat_lngs = zip(lats, lngs)\n",
    "\n",
    "# Identify nearest city for each lat, lng combination\n",
    "for lat_lng in lat_lngs:\n",
    "    city = citipy.nearest_city(lat_lng[0], lat_lng[1]).city_name\n",
    "    \n",
    "    # If the city is unique, then add it to a our cities list\n",
    "    if city not in cities:\n",
    "        cities.append(city)\n",
    "\n",
    "# Print the city count to confirm sufficient count\n",
    "print(len(cities))\n",
    "# print(cities)\n"
   ]
  },
  {
   "cell_type": "markdown",
   "metadata": {},
   "source": [
    "### Perform API Calls\n",
    "* Perform a weather check on each city using a series of successive API calls.\n",
    "* Include a print log of each city as it'sbeing processed (with the city number and city name).\n"
   ]
  },
  {
   "cell_type": "code",
   "execution_count": 29,
   "metadata": {
    "scrolled": true
   },
   "outputs": [
    {
     "name": "stdout",
     "output_type": "stream",
     "text": [
      "City jinchengjiang not found. Skipping...\n",
      "Adding city # 1 dikson to dataframe\n",
      "City taolanaro not found. Skipping...\n",
      "Adding city # 2 albany to dataframe\n",
      "Adding city # 3 ucluelet to dataframe\n",
      "Adding city # 4 rabo de peixe to dataframe\n",
      "Adding city # 5 baghdad to dataframe\n",
      "Adding city # 6 mataura to dataframe\n",
      "Adding city # 7 lerwick to dataframe\n",
      "City vaitupu not found. Skipping...\n",
      "Adding city # 8 santa ines to dataframe\n",
      "Adding city # 9 puerto princesa to dataframe\n",
      "Adding city # 10 vila to dataframe\n",
      "Adding city # 11 bundaberg to dataframe\n",
      "Adding city # 12 catamarca to dataframe\n",
      "Adding city # 13 rio grande to dataframe\n",
      "Adding city # 14 atuona to dataframe\n",
      "Adding city # 15 inuvik to dataframe\n",
      "Adding city # 16 busselton to dataframe\n",
      "Adding city # 17 broken hill to dataframe\n",
      "Adding city # 18 chokurdakh to dataframe\n",
      "Adding city # 19 souillac to dataframe\n",
      "Adding city # 20 ushuaia to dataframe\n",
      "Adding city # 21 murgab to dataframe\n",
      "Adding city # 22 ribeira grande to dataframe\n",
      "Adding city # 23 inhambane to dataframe\n",
      "Adding city # 24 hithadhoo to dataframe\n",
      "Adding city # 25 bengkulu to dataframe\n",
      "Adding city # 26 hobart to dataframe\n",
      "Adding city # 27 port elizabeth to dataframe\n",
      "Adding city # 28 henties bay to dataframe\n",
      "Adding city # 29 cayenne to dataframe\n",
      "Adding city # 30 provideniya to dataframe\n",
      "City kamenskoye not found. Skipping...\n",
      "Adding city # 31 mazyr to dataframe\n",
      "Adding city # 32 geraldton to dataframe\n",
      "Adding city # 33 punta arenas to dataframe\n",
      "Adding city # 34 talara to dataframe\n",
      "Adding city # 35 pisco to dataframe\n",
      "Adding city # 36 rikitea to dataframe\n",
      "Adding city # 37 hermanus to dataframe\n",
      "Adding city # 38 iqaluit to dataframe\n",
      "Adding city # 39 gasa to dataframe\n",
      "Adding city # 40 butaritari to dataframe\n",
      "Adding city # 41 victoria to dataframe\n",
      "Adding city # 42 arraial do cabo to dataframe\n",
      "Adding city # 43 biak to dataframe\n",
      "City illoqqortoormiut not found. Skipping...\n",
      "City nizhneyansk not found. Skipping...\n",
      "Adding city # 44 paragominas to dataframe\n",
      "City grand river south east not found. Skipping...\n",
      "Adding city # 45 kinsale to dataframe\n",
      "Adding city # 46 kajaani to dataframe\n",
      "Adding city # 47 bluff to dataframe\n",
      "City mys shmidta not found. Skipping...\n",
      "Adding city # 48 tasiilaq to dataframe\n",
      "Adding city # 49 torbay to dataframe\n",
      "Adding city # 50 prince albert to dataframe\n",
      "Adding city # 51 port alfred to dataframe\n",
      "Adding city # 52 malakal to dataframe\n",
      "Adding city # 53 mackenzie to dataframe\n",
      "Adding city # 54 esperance to dataframe\n",
      "Adding city # 55 sorland to dataframe\n",
      "City gurgan not found. Skipping...\n",
      "Adding city # 56 kapaa to dataframe\n",
      "City mahaicony not found. Skipping...\n",
      "Adding city # 57 karema to dataframe\n",
      "Adding city # 58 vardo to dataframe\n",
      "Adding city # 59 thompson to dataframe\n",
      "Adding city # 60 hilo to dataframe\n",
      "Adding city # 61 yellowknife to dataframe\n",
      "Adding city # 62 tuktoyaktuk to dataframe\n",
      "Adding city # 63 charleston to dataframe\n",
      "Adding city # 64 nantucket to dataframe\n",
      "City attawapiskat not found. Skipping...\n",
      "Adding city # 65 luau to dataframe\n",
      "Adding city # 66 coihaique to dataframe\n",
      "Adding city # 67 college to dataframe\n",
      "Adding city # 68 yatou to dataframe\n",
      "Adding city # 69 joshimath to dataframe\n",
      "Adding city # 70 vaini to dataframe\n",
      "Adding city # 71 samastipur to dataframe\n",
      "Adding city # 72 san juan to dataframe\n",
      "City amderma not found. Skipping...\n",
      "Adding city # 73 bad sackingen to dataframe\n",
      "Adding city # 74 puerto ayora to dataframe\n",
      "Adding city # 75 aksarka to dataframe\n",
      "City tumannyy not found. Skipping...\n",
      "Adding city # 76 grand gaube to dataframe\n",
      "Adding city # 77 ahipara to dataframe\n",
      "Adding city # 78 fortuna to dataframe\n",
      "City grand centre not found. Skipping...\n",
      "Adding city # 79 machico to dataframe\n",
      "Adding city # 80 faanui to dataframe\n",
      "Adding city # 81 avarua to dataframe\n",
      "Adding city # 82 kahului to dataframe\n",
      "Adding city # 83 banda aceh to dataframe\n",
      "Adding city # 84 qaanaaq to dataframe\n",
      "Adding city # 85 new norfolk to dataframe\n",
      "Adding city # 86 castro to dataframe\n",
      "Adding city # 87 esso to dataframe\n",
      "Adding city # 88 langarud to dataframe\n",
      "Adding city # 89 saint george to dataframe\n",
      "Adding city # 90 mar del plata to dataframe\n",
      "Adding city # 91 kruisfontein to dataframe\n",
      "Adding city # 92 saint-philippe to dataframe\n",
      "Adding city # 93 guaruja to dataframe\n",
      "Adding city # 94 portland to dataframe\n",
      "City saryshagan not found. Skipping...\n",
      "Adding city # 95 saskylakh to dataframe\n",
      "Adding city # 96 ancud to dataframe\n",
      "Adding city # 97 melito di porto salvo to dataframe\n",
      "Adding city # 98 hit to dataframe\n",
      "Adding city # 99 georgetown to dataframe\n",
      "Adding city # 100 nagytarcsa to dataframe\n",
      "Adding city # 101 lavrentiya to dataframe\n",
      "Adding city # 102 sao filipe to dataframe\n",
      "Adding city # 103 san jeronimo to dataframe\n",
      "Adding city # 104 cidreira to dataframe\n",
      "Adding city # 105 atkinson to dataframe\n",
      "Adding city # 106 roald to dataframe\n",
      "Adding city # 107 westport to dataframe\n",
      "City belushya guba not found. Skipping...\n",
      "Adding city # 108 barrow to dataframe\n",
      "Adding city # 109 bara to dataframe\n",
      "Adding city # 110 cape town to dataframe\n",
      "Adding city # 111 jamestown to dataframe\n",
      "Adding city # 112 pangnirtung to dataframe\n",
      "Adding city # 113 palana to dataframe\n",
      "Adding city # 114 russell to dataframe\n",
      "Adding city # 115 cherskiy to dataframe\n",
      "Adding city # 116 kodiak to dataframe\n",
      "Adding city # 117 beloha to dataframe\n",
      "Adding city # 118 luanda to dataframe\n",
      "Adding city # 119 komsomolskiy to dataframe\n",
      "Adding city # 120 alofi to dataframe\n",
      "Adding city # 121 brod to dataframe\n",
      "Adding city # 122 bredasdorp to dataframe\n",
      "Adding city # 123 zabid to dataframe\n",
      "Adding city # 124 kaitangata to dataframe\n",
      "Adding city # 125 mudgee to dataframe\n",
      "Adding city # 126 newport to dataframe\n",
      "Adding city # 127 pevek to dataframe\n",
      "Adding city # 128 khagaria to dataframe\n",
      "City gulshat not found. Skipping...\n",
      "Adding city # 129 arlit to dataframe\n",
      "Adding city # 130 kainantu to dataframe\n",
      "Adding city # 131 lebu to dataframe\n",
      "Adding city # 132 zhigansk to dataframe\n",
      "Adding city # 133 staryy nadym to dataframe\n",
      "Adding city # 134 campechuela to dataframe\n",
      "Adding city # 135 carnarvon to dataframe\n",
      "City saleaula not found. Skipping...\n",
      "City meyungs not found. Skipping...\n",
      "Adding city # 136 brus to dataframe\n",
      "Adding city # 137 ipixuna to dataframe\n",
      "Adding city # 138 barcelos to dataframe\n",
      "Adding city # 139 carolina to dataframe\n",
      "Adding city # 140 fare to dataframe\n",
      "Adding city # 141 bronnoysund to dataframe\n",
      "Adding city # 142 coacoyul to dataframe\n",
      "Adding city # 143 kapit to dataframe\n",
      "Adding city # 144 kloulklubed to dataframe\n",
      "City mrirt not found. Skipping...\n",
      "City bargal not found. Skipping...\n",
      "City golcuk not found. Skipping...\n",
      "Adding city # 145 burgas to dataframe\n",
      "Adding city # 146 el vigia to dataframe\n",
      "Adding city # 147 tiksi to dataframe\n",
      "Adding city # 148 port hedland to dataframe\n",
      "Adding city # 149 lata to dataframe\n",
      "Adding city # 150 rawson to dataframe\n",
      "Adding city # 151 san quintin to dataframe\n",
      "Adding city # 152 sao jose da coroa grande to dataframe\n",
      "Adding city # 153 wangqing to dataframe\n",
      "Adding city # 154 nanakuli to dataframe\n",
      "Adding city # 155 kastamonu to dataframe\n",
      "Adding city # 156 tilaran to dataframe\n",
      "Adding city # 157 mao to dataframe\n",
      "Adding city # 158 altay to dataframe\n",
      "Adding city # 159 praxedis guerrero to dataframe\n",
      "Adding city # 160 my tho to dataframe\n",
      "Adding city # 161 la ermita to dataframe\n",
      "Adding city # 162 ratnagiri to dataframe\n",
      "Adding city # 163 hamilton to dataframe\n",
      "Adding city # 164 sao joao da barra to dataframe\n",
      "Adding city # 165 khatanga to dataframe\n",
      "Adding city # 166 pilar to dataframe\n",
      "Adding city # 167 soller to dataframe\n",
      "Adding city # 168 bambous virieux to dataframe\n",
      "Adding city # 169 lompoc to dataframe\n",
      "Adding city # 170 isangel to dataframe\n",
      "Adding city # 171 chara to dataframe\n",
      "City ijaki not found. Skipping...\n",
      "City fort saint john not found. Skipping...\n",
      "Adding city # 172 rodeo to dataframe\n",
      "Adding city # 173 raga to dataframe\n",
      "Adding city # 174 richards bay to dataframe\n",
      "Adding city # 175 yuancheng to dataframe\n",
      "Adding city # 176 awbari to dataframe\n",
      "Adding city # 177 grindavik to dataframe\n",
      "Adding city # 178 lat yao to dataframe\n",
      "Adding city # 179 kozhva to dataframe\n",
      "Adding city # 180 sabang to dataframe\n",
      "Adding city # 181 tomigusuku to dataframe\n",
      "Adding city # 182 asau to dataframe\n",
      "Adding city # 183 korsakov to dataframe\n",
      "Adding city # 184 manbij to dataframe\n"
     ]
    },
    {
     "name": "stdout",
     "output_type": "stream",
     "text": [
      "Adding city # 185 sinnamary to dataframe\n",
      "Adding city # 186 yelizovo to dataframe\n",
      "Adding city # 187 hargeysa to dataframe\n",
      "Adding city # 188 whitehorse to dataframe\n",
      "Adding city # 189 parrita to dataframe\n",
      "Adding city # 190 east london to dataframe\n",
      "Adding city # 191 igboho to dataframe\n",
      "Adding city # 192 kerema to dataframe\n",
      "Adding city # 193 naze to dataframe\n",
      "Adding city # 194 atar to dataframe\n",
      "Adding city # 195 nabire to dataframe\n",
      "Adding city # 196 taltal to dataframe\n",
      "Adding city # 197 kalakamati to dataframe\n",
      "Adding city # 198 san felipe to dataframe\n",
      "Adding city # 199 buala to dataframe\n",
      "Adding city # 200 fort nelson to dataframe\n",
      "Adding city # 201 ahvaz to dataframe\n",
      "Adding city # 202 comodoro rivadavia to dataframe\n",
      "Adding city # 203 narsaq to dataframe\n",
      "Adding city # 204 mulanje to dataframe\n",
      "Adding city # 205 touros to dataframe\n",
      "Adding city # 206 kropotkin to dataframe\n",
      "Adding city # 207 ponta delgada to dataframe\n",
      "Adding city # 208 old shinyanga to dataframe\n",
      "Adding city # 209 werneck to dataframe\n",
      "Adding city # 210 ilhabela to dataframe\n",
      "Adding city # 211 leningradskiy to dataframe\n",
      "City tabiauea not found. Skipping...\n",
      "Adding city # 212 chokwe to dataframe\n",
      "City tawkar not found. Skipping...\n",
      "Adding city # 213 yar-sale to dataframe\n",
      "Adding city # 214 abu samrah to dataframe\n",
      "Adding city # 215 cabo san lucas to dataframe\n",
      "Adding city # 216 goalpara to dataframe\n",
      "Adding city # 217 lodja to dataframe\n",
      "Adding city # 218 camana to dataframe\n",
      "Adding city # 219 ullapool to dataframe\n",
      "City barentsburg not found. Skipping...\n",
      "Adding city # 220 sibolga to dataframe\n",
      "Adding city # 221 heihe to dataframe\n",
      "Adding city # 222 tombouctou to dataframe\n",
      "Adding city # 223 gobabis to dataframe\n",
      "Adding city # 224 bethel to dataframe\n",
      "Adding city # 225 severo-kurilsk to dataframe\n",
      "Adding city # 226 mehamn to dataframe\n",
      "Adding city # 227 coolum beach to dataframe\n",
      "Adding city # 228 umtata to dataframe\n",
      "Adding city # 229 bulawayo to dataframe\n",
      "Adding city # 230 upernavik to dataframe\n",
      "Adding city # 231 jacqueville to dataframe\n",
      "Adding city # 232 nuuk to dataframe\n",
      "Adding city # 233 kyzyl-suu to dataframe\n",
      "Adding city # 234 vila velha to dataframe\n",
      "Adding city # 235 parkes to dataframe\n",
      "Adding city # 236 taoudenni to dataframe\n",
      "Adding city # 237 sena madureira to dataframe\n",
      "Adding city # 238 san antonio to dataframe\n",
      "City urdzhar not found. Skipping...\n",
      "Adding city # 239 jizan to dataframe\n",
      "Adding city # 240 umea to dataframe\n",
      "Adding city # 241 tessalit to dataframe\n",
      "Adding city # 242 alvarado to dataframe\n",
      "Adding city # 243 xichang to dataframe\n",
      "Adding city # 244 luderitz to dataframe\n",
      "Adding city # 245 chimoio to dataframe\n",
      "Adding city # 246 ponta do sol to dataframe\n",
      "Adding city # 247 lenger to dataframe\n",
      "Adding city # 248 clifton to dataframe\n",
      "Adding city # 249 saldanha to dataframe\n",
      "Adding city # 250 los llanos de aridane to dataframe\n",
      "Adding city # 251 borogontsy to dataframe\n",
      "Adding city # 252 warmbad to dataframe\n",
      "Adding city # 253 ostrovnoy to dataframe\n",
      "Adding city # 254 chitral to dataframe\n",
      "Adding city # 255 dakar to dataframe\n",
      "Adding city # 256 butembo to dataframe\n",
      "Adding city # 257 coquimbo to dataframe\n",
      "Adding city # 258 atambua to dataframe\n",
      "Adding city # 259 dingle to dataframe\n",
      "Adding city # 260 pierre to dataframe\n",
      "Adding city # 261 nikolskoye to dataframe\n",
      "Adding city # 262 makakilo city to dataframe\n",
      "Adding city # 263 aguimes to dataframe\n",
      "City tsihombe not found. Skipping...\n",
      "Adding city # 264 blackwater to dataframe\n",
      "Adding city # 265 san cristobal to dataframe\n",
      "City bur gabo not found. Skipping...\n",
      "Adding city # 266 kangaatsiaq to dataframe\n",
      "Adding city # 267 igarka to dataframe\n",
      "Adding city # 268 negara to dataframe\n",
      "Adding city # 269 peniche to dataframe\n",
      "Adding city # 270 kavaratti to dataframe\n",
      "Adding city # 271 deputatskiy to dataframe\n",
      "Adding city # 272 ankang to dataframe\n",
      "Adding city # 273 rock springs to dataframe\n",
      "Adding city # 274 uruzgan to dataframe\n",
      "Adding city # 275 taguatinga to dataframe\n",
      "Adding city # 276 sainte-anne-des-monts to dataframe\n",
      "Adding city # 277 viedma to dataframe\n",
      "Adding city # 278 port hardy to dataframe\n",
      "Adding city # 279 lyuban to dataframe\n",
      "City goteborg not found. Skipping...\n",
      "Adding city # 280 meulaboh to dataframe\n",
      "Adding city # 281 mount gambier to dataframe\n",
      "Adding city # 282 anshun to dataframe\n",
      "Adding city # 283 plettenberg bay to dataframe\n",
      "Adding city # 284 newberg to dataframe\n",
      "Adding city # 285 anaconda to dataframe\n",
      "Adding city # 286 kumano to dataframe\n",
      "Adding city # 287 longyearbyen to dataframe\n",
      "Adding city # 288 kagoro to dataframe\n",
      "Adding city # 289 tonota to dataframe\n",
      "Adding city # 290 hatillo to dataframe\n",
      "Adding city # 291 sosva to dataframe\n",
      "Adding city # 292 aligudarz to dataframe\n",
      "Adding city # 293 charters towers to dataframe\n",
      "Adding city # 294 constitucion to dataframe\n",
      "Adding city # 295 poum to dataframe\n",
      "City lolua not found. Skipping...\n",
      "Adding city # 296 klaksvik to dataframe\n",
      "Adding city # 297 praia da vitoria to dataframe\n",
      "Adding city # 298 nizhnevartovsk to dataframe\n",
      "Adding city # 299 kysyl-syr to dataframe\n",
      "Adding city # 300 maykor to dataframe\n",
      "Adding city # 301 yulara to dataframe\n",
      "Adding city # 302 rundu to dataframe\n",
      "City barawe not found. Skipping...\n",
      "Adding city # 303 puerto del rosario to dataframe\n",
      "Adding city # 304 guangyuan to dataframe\n",
      "Adding city # 305 lufilufi to dataframe\n",
      "Adding city # 306 hasaki to dataframe\n",
      "Adding city # 307 beringovskiy to dataframe\n",
      "Adding city # 308 pavlodar to dataframe\n",
      "Adding city # 309 qui nhon to dataframe\n",
      "City samalaeulu not found. Skipping...\n",
      "Adding city # 310 san patricio to dataframe\n",
      "Adding city # 311 isla vista to dataframe\n",
      "Adding city # 312 gravdal to dataframe\n",
      "City lar gerd not found. Skipping...\n",
      "Adding city # 313 sioux lookout to dataframe\n",
      "Adding city # 314 jaguaruna to dataframe\n",
      "Adding city # 315 labuhan to dataframe\n",
      "Adding city # 316 kushima to dataframe\n",
      "Adding city # 317 krasnomayskiy to dataframe\n",
      "Adding city # 318 turan to dataframe\n",
      "Adding city # 319 tuatapere to dataframe\n",
      "Adding city # 320 huarmey to dataframe\n",
      "Adding city # 321 ndele to dataframe\n",
      "Adding city # 322 broome to dataframe\n",
      "Adding city # 323 buta to dataframe\n",
      "Adding city # 324 brae to dataframe\n",
      "Adding city # 325 waipawa to dataframe\n",
      "Adding city # 326 mount isa to dataframe\n",
      "Adding city # 327 dumas to dataframe\n",
      "Adding city # 328 mahebourg to dataframe\n",
      "Adding city # 329 juan lacaze to dataframe\n",
      "Adding city # 330 airai to dataframe\n",
      "Adding city # 331 livingston to dataframe\n",
      "City haapu not found. Skipping...\n",
      "Adding city # 332 soyo to dataframe\n",
      "Adding city # 333 montepuez to dataframe\n",
      "Adding city # 334 alberton to dataframe\n",
      "Adding city # 335 las palmas to dataframe\n",
      "Adding city # 336 poitiers to dataframe\n",
      "Adding city # 337 ugoofaaru to dataframe\n",
      "Adding city # 338 oktyabrskiy to dataframe\n",
      "Adding city # 339 san pedro to dataframe\n",
      "Adding city # 340 kudahuvadhoo to dataframe\n",
      "Adding city # 341 hualmay to dataframe\n",
      "City jiddah not found. Skipping...\n",
      "Adding city # 342 emerald to dataframe\n",
      "Adding city # 343 linjiang to dataframe\n",
      "Adding city # 344 hervey bay to dataframe\n",
      "Adding city # 345 ixtapa to dataframe\n",
      "Adding city # 346 samarkand to dataframe\n",
      "Adding city # 347 ternate to dataframe\n",
      "Adding city # 348 svetlogorsk to dataframe\n",
      "Adding city # 349 puerto suarez to dataframe\n",
      "Adding city # 350 shenjiamen to dataframe\n",
      "Adding city # 351 cairns to dataframe\n",
      "Adding city # 352 tezu to dataframe\n",
      "Adding city # 353 karwar to dataframe\n",
      "Adding city # 354 maneadero to dataframe\n",
      "Adding city # 355 lingao to dataframe\n",
      "Adding city # 356 vostok to dataframe\n",
      "Adding city # 357 clyde river to dataframe\n",
      "Adding city # 358 kadoma to dataframe\n",
      "City gardan diwal not found. Skipping...\n",
      "Adding city # 359 salinas to dataframe\n",
      "City haibowan not found. Skipping...\n",
      "Adding city # 360 nanortalik to dataframe\n",
      "Adding city # 361 alghero to dataframe\n",
      "Adding city # 362 puerto colombia to dataframe\n",
      "Adding city # 363 kadiri to dataframe\n",
      "Adding city # 364 athabasca to dataframe\n",
      "Adding city # 365 aklavik to dataframe\n",
      "Adding city # 366 pecos to dataframe\n",
      "Adding city # 367 bogalusa to dataframe\n",
      "Adding city # 368 xunchang to dataframe\n",
      "Adding city # 369 haines junction to dataframe\n",
      "Adding city # 370 lagoa to dataframe\n",
      "Adding city # 371 maryville to dataframe\n",
      "Adding city # 372 namatanai to dataframe\n",
      "Adding city # 373 porto empedocle to dataframe\n"
     ]
    },
    {
     "name": "stdout",
     "output_type": "stream",
     "text": [
      "Adding city # 374 chuy to dataframe\n",
      "Adding city # 375 misawa to dataframe\n",
      "Adding city # 376 along to dataframe\n",
      "Adding city # 377 sitka to dataframe\n",
      "Adding city # 378 khrebtovaya to dataframe\n",
      "Adding city # 379 ilulissat to dataframe\n",
      "Adding city # 380 morgan city to dataframe\n",
      "Adding city # 381 abu dhabi to dataframe\n",
      "Adding city # 382 sucre to dataframe\n",
      "Adding city # 383 kaniama to dataframe\n",
      "Adding city # 384 flinders to dataframe\n",
      "Adding city # 385 porbandar to dataframe\n",
      "Adding city # 386 iralaya to dataframe\n",
      "Adding city # 387 caravelas to dataframe\n",
      "Adding city # 388 tautira to dataframe\n",
      "Adding city # 389 mayumba to dataframe\n",
      "Adding city # 390 prescott to dataframe\n",
      "Adding city # 391 nizwa to dataframe\n",
      "Adding city # 392 champerico to dataframe\n",
      "Adding city # 393 jabinyanah to dataframe\n",
      "City umzimvubu not found. Skipping...\n",
      "Adding city # 394 hovd to dataframe\n",
      "Adding city # 395 ler to dataframe\n",
      "Adding city # 396 mogok to dataframe\n",
      "Adding city # 397 vao to dataframe\n",
      "Adding city # 398 amor to dataframe\n",
      "Adding city # 399 nadvoitsy to dataframe\n",
      "Adding city # 400 adrar to dataframe\n",
      "Adding city # 401 cap malheureux to dataframe\n",
      "Adding city # 402 bubaque to dataframe\n",
      "Adding city # 403 diamantino to dataframe\n",
      "Adding city # 404 vanimo to dataframe\n",
      "Adding city # 405 teya to dataframe\n",
      "Adding city # 406 bambanglipuro to dataframe\n",
      "Adding city # 407 taksimo to dataframe\n",
      "Adding city # 408 usinsk to dataframe\n",
      "Adding city # 409 udachnyy to dataframe\n",
      "City wahran not found. Skipping...\n",
      "City palabuhanratu not found. Skipping...\n",
      "Adding city # 410 asfi to dataframe\n",
      "Adding city # 411 vila franca do campo to dataframe\n",
      "Adding city # 412 petersburg to dataframe\n",
      "Adding city # 413 hoa binh to dataframe\n",
      "Adding city # 414 opuwo to dataframe\n",
      "Adding city # 415 taganak to dataframe\n",
      "Adding city # 416 conde to dataframe\n",
      "Adding city # 417 araouane to dataframe\n",
      "Adding city # 418 port macquarie to dataframe\n",
      "Adding city # 419 seoul to dataframe\n",
      "Adding city # 420 ongandjera to dataframe\n",
      "Adding city # 421 wellington to dataframe\n",
      "Adding city # 422 batsfjord to dataframe\n",
      "Adding city # 423 rocha to dataframe\n",
      "Adding city # 424 mezen to dataframe\n",
      "Adding city # 425 baherden to dataframe\n",
      "Adding city # 426 nioki to dataframe\n",
      "Adding city # 427 mangrol to dataframe\n",
      "Adding city # 428 pak phanang to dataframe\n",
      "City ust-kamchatsk not found. Skipping...\n",
      "Adding city # 429 el dorado to dataframe\n",
      "Adding city # 430 pahrump to dataframe\n",
      "Adding city # 431 hermosillo to dataframe\n",
      "Adding city # 432 kutum to dataframe\n",
      "Adding city # 433 aleksandrow kujawski to dataframe\n",
      "Adding city # 434 krasnoarmeysk to dataframe\n",
      "Adding city # 435 estelle to dataframe\n",
      "Adding city # 436 palmer to dataframe\n",
      "Adding city # 437 gumdag to dataframe\n",
      "Adding city # 438 riyadh to dataframe\n",
      "Adding city # 439 challans to dataframe\n",
      "Adding city # 440 vwawa to dataframe\n",
      "Adding city # 441 bathsheba to dataframe\n",
      "Adding city # 442 chicama to dataframe\n",
      "Adding city # 443 snasa to dataframe\n",
      "City labutta not found. Skipping...\n",
      "Adding city # 444 richmond to dataframe\n",
      "Adding city # 445 isiro to dataframe\n",
      "Adding city # 446 quba to dataframe\n",
      "Adding city # 447 hami to dataframe\n",
      "Adding city # 448 nouadhibou to dataframe\n",
      "Adding city # 449 majene to dataframe\n",
      "Adding city # 450 la ronge to dataframe\n",
      "Adding city # 451 mankono to dataframe\n",
      "Adding city # 452 mildura to dataframe\n",
      "Adding city # 453 the hammocks to dataframe\n",
      "Adding city # 454 novopskov to dataframe\n",
      "Adding city # 455 isehara to dataframe\n",
      "Adding city # 456 bima to dataframe\n",
      "Adding city # 457 avera to dataframe\n",
      "Adding city # 458 san lorenzo to dataframe\n",
      "Adding city # 459 nagua to dataframe\n",
      "Adding city # 460 djibo to dataframe\n",
      "Adding city # 461 valparaiso to dataframe\n",
      "Adding city # 462 merauke to dataframe\n",
      "Adding city # 463 padang to dataframe\n",
      "Adding city # 464 eureka to dataframe\n",
      "Adding city # 465 guanica to dataframe\n",
      "Adding city # 466 thinadhoo to dataframe\n",
      "Adding city # 467 elizabeth city to dataframe\n",
      "Adding city # 468 blackpool to dataframe\n",
      "Adding city # 469 paamiut to dataframe\n",
      "Adding city # 470 wailuku to dataframe\n",
      "Adding city # 471 krasnogorskiy to dataframe\n",
      "Adding city # 472 burnie to dataframe\n",
      "Adding city # 473 iranshahr to dataframe\n",
      "City yirol not found. Skipping...\n",
      "Adding city # 474 ramanuj ganj to dataframe\n",
      "City halalo not found. Skipping...\n",
      "Adding city # 475 tura to dataframe\n",
      "City karaul not found. Skipping...\n",
      "Adding city # 476 kungurtug to dataframe\n",
      "Adding city # 477 emba to dataframe\n",
      "Adding city # 478 batagay-alyta to dataframe\n",
      "Adding city # 479 huanan to dataframe\n",
      "Adding city # 480 tahoua to dataframe\n",
      "Adding city # 481 wawa to dataframe\n",
      "Adding city # 482 faya to dataframe\n",
      "Adding city # 483 pangai to dataframe\n",
      "Adding city # 484 qasigiannguit to dataframe\n",
      "Adding city # 485 kavieng to dataframe\n",
      "Adding city # 486 ko samui to dataframe\n",
      "Adding city # 487 shelburne to dataframe\n",
      "Adding city # 488 marzuq to dataframe\n",
      "Adding city # 489 jining to dataframe\n",
      "Adding city # 490 santa rosa to dataframe\n",
      "Adding city # 491 san buenaventura to dataframe\n",
      "Adding city # 492 norman wells to dataframe\n",
      "Adding city # 493 krasnoselkup to dataframe\n",
      "Adding city # 494 olafsvik to dataframe\n",
      "Adding city # 495 xuddur to dataframe\n",
      "Adding city # 496 umm kaddadah to dataframe\n",
      "Adding city # 497 sandviken to dataframe\n",
      "Adding city # 498 jinji to dataframe\n",
      "Adding city # 499 khash to dataframe\n",
      "Adding city # 500 kasongo-lunda to dataframe\n",
      "City babanusah not found. Skipping...\n",
      "Adding city # 501 flic en flac to dataframe\n",
      "Adding city # 502 kuryk to dataframe\n",
      "Adding city # 503 camacha to dataframe\n",
      "Adding city # 504 erzin to dataframe\n",
      "Adding city # 505 bilgoraj to dataframe\n",
      "Adding city # 506 vikulovo to dataframe\n",
      "Adding city # 507 guantanamo to dataframe\n",
      "Adding city # 508 portree to dataframe\n",
      "Adding city # 509 tual to dataframe\n",
      "Adding city # 510 zhezkazgan to dataframe\n",
      "Adding city # 511 fuyang to dataframe\n",
      "Adding city # 512 mandalgovi to dataframe\n",
      "Adding city # 513 maraa to dataframe\n",
      "Adding city # 514 salalah to dataframe\n",
      "Adding city # 515 sao raimundo das mangabeiras to dataframe\n",
      "Adding city # 516 pouebo to dataframe\n",
      "Adding city # 517 channapatna to dataframe\n",
      "Adding city # 518 toccoa to dataframe\n",
      "Adding city # 519 grajau to dataframe\n",
      "Adding city # 520 panzhihua to dataframe\n",
      "Adding city # 521 mahad to dataframe\n",
      "City rungata not found. Skipping...\n",
      "Adding city # 522 binzhou to dataframe\n",
      "Adding city # 523 kolosovka to dataframe\n",
      "Adding city # 524 wyndham to dataframe\n",
      "Adding city # 525 mayya to dataframe\n",
      "Adding city # 526 tevaitoa to dataframe\n",
      "Adding city # 527 belaya kholunitsa to dataframe\n",
      "Adding city # 528 oga to dataframe\n",
      "Adding city # 529 hoi an to dataframe\n",
      "Adding city # 530 te anau to dataframe\n",
      "Adding city # 531 katsuura to dataframe\n",
      "Adding city # 532 sikonge to dataframe\n",
      "Adding city # 533 great falls to dataframe\n",
      "Adding city # 534 requena to dataframe\n",
      "Adding city # 535 sur to dataframe\n",
      "Adding city # 536 xihe to dataframe\n",
      "Adding city # 537 toamasina to dataframe\n",
      "Adding city # 538 sakaiminato to dataframe\n",
      "Adding city # 539 muscat to dataframe\n",
      "Adding city # 540 pangody to dataframe\n",
      "Adding city # 541 prainha to dataframe\n",
      "Adding city # 542 nichinan to dataframe\n",
      "Adding city # 543 teguldet to dataframe\n",
      "Adding city # 544 cabedelo to dataframe\n",
      "Adding city # 545 dubbo to dataframe\n",
      "Adding city # 546 hun to dataframe\n",
      "Adding city # 547 mackay to dataframe\n",
      "Adding city # 548 kapuskasing to dataframe\n",
      "Adding city # 549 narauli to dataframe\n",
      "Adding city # 550 parry sound to dataframe\n",
      "City samusu not found. Skipping...\n",
      "Adding city # 551 dangriga to dataframe\n",
      "Adding city # 552 mahon to dataframe\n",
      "Adding city # 553 kyabe to dataframe\n",
      "Adding city # 554 apud to dataframe\n",
      "Adding city # 555 carrollton to dataframe\n",
      "Adding city # 556 chakwal to dataframe\n",
      "City grande-riviere not found. Skipping...\n",
      "Adding city # 557 pinhao to dataframe\n",
      "Adding city # 558 burgthann to dataframe\n"
     ]
    }
   ],
   "source": [
    "url = \"http://api.openweathermap.org/data/2.5/weather?\"\n",
    "units = \"imperial\"\n",
    "\n",
    "query_url = f\"{url}appid={weather_api_key}&units={units}&q=\"\n",
    "\n",
    "# set up multiple lists to hold response data\n",
    "city_number = []\n",
    "city_name = []\n",
    "cloudiness = []\n",
    "country =[]\n",
    "date = []\n",
    "humidity = []\n",
    "lat = []\n",
    "lng = []\n",
    "max_temp = []\n",
    "wind_speed = []\n",
    "\n",
    "city_num = 1\n",
    "\n",
    "for city in cities:\n",
    "    try:\n",
    "#         print(query_url + city)\n",
    "        response = requests.get(query_url + city).json()\n",
    "        cloudiness.append(response['clouds']['all'])\n",
    "        country.append(response['sys']['country'])\n",
    "        date.append(response['dt'])\n",
    "        humidity.append(response['main']['humidity'])\n",
    "        lat.append(response['coord']['lat'])\n",
    "        lng.append(response['coord']['lon'])\n",
    "        max_temp.append(response['main']['temp_max'])\n",
    "        wind_speed.append(response['wind']['speed'])\n",
    "        city_name.append(city)\n",
    "        time.sleep(0.1)\n",
    "        print(f\"Adding city # {city_num} {city} to dataframe\")\n",
    "        city_number.append(city_num)\n",
    "        city_num = city_num +1\n",
    "    except:\n",
    "        print(f\"City {city} not found. Skipping...\")"
   ]
  },
  {
   "cell_type": "code",
   "execution_count": 31,
   "metadata": {},
   "outputs": [
    {
     "name": "stdout",
     "output_type": "stream",
     "text": [
      "558\n"
     ]
    }
   ],
   "source": [
    "print(len(city_number))"
   ]
  },
  {
   "cell_type": "markdown",
   "metadata": {},
   "source": [
    "### Convert Raw Data to DataFrame\n",
    "* Export the city data into a .csv.\n",
    "* Display the DataFrame"
   ]
  },
  {
   "cell_type": "code",
   "execution_count": 42,
   "metadata": {},
   "outputs": [
    {
     "data": {
      "text/html": [
       "<div>\n",
       "<style scoped>\n",
       "    .dataframe tbody tr th:only-of-type {\n",
       "        vertical-align: middle;\n",
       "    }\n",
       "\n",
       "    .dataframe tbody tr th {\n",
       "        vertical-align: top;\n",
       "    }\n",
       "\n",
       "    .dataframe thead th {\n",
       "        text-align: right;\n",
       "    }\n",
       "</style>\n",
       "<table border=\"1\" class=\"dataframe\">\n",
       "  <thead>\n",
       "    <tr style=\"text-align: right;\">\n",
       "      <th></th>\n",
       "      <th>City_ID</th>\n",
       "      <th>City</th>\n",
       "      <th>Cloudiness</th>\n",
       "      <th>Country</th>\n",
       "      <th>Date</th>\n",
       "      <th>Humidity</th>\n",
       "      <th>Latitude</th>\n",
       "      <th>Longitude</th>\n",
       "      <th>Max Temperature</th>\n",
       "      <th>Wind Speed</th>\n",
       "    </tr>\n",
       "  </thead>\n",
       "  <tbody>\n",
       "    <tr>\n",
       "      <th>0</th>\n",
       "      <td>1</td>\n",
       "      <td>dikson</td>\n",
       "      <td>94</td>\n",
       "      <td>RU</td>\n",
       "      <td>1635650805</td>\n",
       "      <td>90</td>\n",
       "      <td>73.5069</td>\n",
       "      <td>80.5464</td>\n",
       "      <td>6.19</td>\n",
       "      <td>15.08</td>\n",
       "    </tr>\n",
       "    <tr>\n",
       "      <th>1</th>\n",
       "      <td>2</td>\n",
       "      <td>albany</td>\n",
       "      <td>100</td>\n",
       "      <td>US</td>\n",
       "      <td>1635650767</td>\n",
       "      <td>97</td>\n",
       "      <td>42.6001</td>\n",
       "      <td>-73.9662</td>\n",
       "      <td>55.35</td>\n",
       "      <td>3.20</td>\n",
       "    </tr>\n",
       "    <tr>\n",
       "      <th>2</th>\n",
       "      <td>3</td>\n",
       "      <td>ucluelet</td>\n",
       "      <td>2</td>\n",
       "      <td>CA</td>\n",
       "      <td>1635650806</td>\n",
       "      <td>60</td>\n",
       "      <td>48.9329</td>\n",
       "      <td>-125.5528</td>\n",
       "      <td>39.96</td>\n",
       "      <td>6.78</td>\n",
       "    </tr>\n",
       "    <tr>\n",
       "      <th>3</th>\n",
       "      <td>4</td>\n",
       "      <td>rabo de peixe</td>\n",
       "      <td>100</td>\n",
       "      <td>PT</td>\n",
       "      <td>1635650806</td>\n",
       "      <td>94</td>\n",
       "      <td>37.8000</td>\n",
       "      <td>-25.5833</td>\n",
       "      <td>69.60</td>\n",
       "      <td>15.50</td>\n",
       "    </tr>\n",
       "    <tr>\n",
       "      <th>4</th>\n",
       "      <td>5</td>\n",
       "      <td>baghdad</td>\n",
       "      <td>20</td>\n",
       "      <td>IQ</td>\n",
       "      <td>1635650654</td>\n",
       "      <td>68</td>\n",
       "      <td>33.3406</td>\n",
       "      <td>44.4009</td>\n",
       "      <td>73.31</td>\n",
       "      <td>6.91</td>\n",
       "    </tr>\n",
       "    <tr>\n",
       "      <th>...</th>\n",
       "      <td>...</td>\n",
       "      <td>...</td>\n",
       "      <td>...</td>\n",
       "      <td>...</td>\n",
       "      <td>...</td>\n",
       "      <td>...</td>\n",
       "      <td>...</td>\n",
       "      <td>...</td>\n",
       "      <td>...</td>\n",
       "      <td>...</td>\n",
       "    </tr>\n",
       "    <tr>\n",
       "      <th>553</th>\n",
       "      <td>554</td>\n",
       "      <td>apud</td>\n",
       "      <td>52</td>\n",
       "      <td>PH</td>\n",
       "      <td>1635651004</td>\n",
       "      <td>56</td>\n",
       "      <td>13.1393</td>\n",
       "      <td>123.2916</td>\n",
       "      <td>86.77</td>\n",
       "      <td>4.21</td>\n",
       "    </tr>\n",
       "    <tr>\n",
       "      <th>554</th>\n",
       "      <td>555</td>\n",
       "      <td>carrollton</td>\n",
       "      <td>1</td>\n",
       "      <td>US</td>\n",
       "      <td>1635650983</td>\n",
       "      <td>43</td>\n",
       "      <td>32.9537</td>\n",
       "      <td>-96.8903</td>\n",
       "      <td>64.11</td>\n",
       "      <td>4.61</td>\n",
       "    </tr>\n",
       "    <tr>\n",
       "      <th>555</th>\n",
       "      <td>556</td>\n",
       "      <td>chakwal</td>\n",
       "      <td>0</td>\n",
       "      <td>PK</td>\n",
       "      <td>1635651005</td>\n",
       "      <td>28</td>\n",
       "      <td>32.9334</td>\n",
       "      <td>72.8585</td>\n",
       "      <td>70.56</td>\n",
       "      <td>3.60</td>\n",
       "    </tr>\n",
       "    <tr>\n",
       "      <th>556</th>\n",
       "      <td>557</td>\n",
       "      <td>pinhao</td>\n",
       "      <td>100</td>\n",
       "      <td>BR</td>\n",
       "      <td>1635651006</td>\n",
       "      <td>97</td>\n",
       "      <td>-25.6956</td>\n",
       "      <td>-51.6597</td>\n",
       "      <td>59.29</td>\n",
       "      <td>6.51</td>\n",
       "    </tr>\n",
       "    <tr>\n",
       "      <th>557</th>\n",
       "      <td>558</td>\n",
       "      <td>burgthann</td>\n",
       "      <td>91</td>\n",
       "      <td>DE</td>\n",
       "      <td>1635651006</td>\n",
       "      <td>67</td>\n",
       "      <td>49.3520</td>\n",
       "      <td>11.3115</td>\n",
       "      <td>49.77</td>\n",
       "      <td>5.06</td>\n",
       "    </tr>\n",
       "  </tbody>\n",
       "</table>\n",
       "<p>558 rows × 10 columns</p>\n",
       "</div>"
      ],
      "text/plain": [
       "     City_ID           City  Cloudiness Country        Date  Humidity  \\\n",
       "0          1         dikson          94      RU  1635650805        90   \n",
       "1          2         albany         100      US  1635650767        97   \n",
       "2          3       ucluelet           2      CA  1635650806        60   \n",
       "3          4  rabo de peixe         100      PT  1635650806        94   \n",
       "4          5        baghdad          20      IQ  1635650654        68   \n",
       "..       ...            ...         ...     ...         ...       ...   \n",
       "553      554           apud          52      PH  1635651004        56   \n",
       "554      555     carrollton           1      US  1635650983        43   \n",
       "555      556        chakwal           0      PK  1635651005        28   \n",
       "556      557         pinhao         100      BR  1635651006        97   \n",
       "557      558      burgthann          91      DE  1635651006        67   \n",
       "\n",
       "     Latitude  Longitude  Max Temperature  Wind Speed  \n",
       "0     73.5069    80.5464             6.19       15.08  \n",
       "1     42.6001   -73.9662            55.35        3.20  \n",
       "2     48.9329  -125.5528            39.96        6.78  \n",
       "3     37.8000   -25.5833            69.60       15.50  \n",
       "4     33.3406    44.4009            73.31        6.91  \n",
       "..        ...        ...              ...         ...  \n",
       "553   13.1393   123.2916            86.77        4.21  \n",
       "554   32.9537   -96.8903            64.11        4.61  \n",
       "555   32.9334    72.8585            70.56        3.60  \n",
       "556  -25.6956   -51.6597            59.29        6.51  \n",
       "557   49.3520    11.3115            49.77        5.06  \n",
       "\n",
       "[558 rows x 10 columns]"
      ]
     },
     "execution_count": 42,
     "metadata": {},
     "output_type": "execute_result"
    }
   ],
   "source": [
    "# Creating a DataFrame\n",
    "weather_dict = {\n",
    "    \"City_ID\": city_number,\n",
    "    \"City\": city_name,\n",
    "    \"Cloudiness\": cloudiness,\n",
    "    \"Country\": country,\n",
    "    \"Date\" : date,\n",
    "    \"Humidity\" : humidity,\n",
    "    \"Latitude\" : lat,\n",
    "    \"Longitude\" : lng,\n",
    "    \"Max Temperature\" : max_temp,\n",
    "    \"Wind Speed\" : wind_speed\n",
    "}\n",
    "\n",
    "weather_df = pd.DataFrame(weather_dict)\n",
    "\n",
    "# Removing duplicates and creating dataframe with unique cities.\n",
    "weather_data = weather_df.drop_duplicates(subset=[\"City\"])\n",
    "# len(weather_df[\"City\"].unique())\n",
    "\n",
    "# Display the DataFrame\n",
    "weather_data\n"
   ]
  },
  {
   "cell_type": "code",
   "execution_count": 61,
   "metadata": {},
   "outputs": [],
   "source": [
    "# Exporting the data into a .csv file\n",
    "weather_data.to_csv(\"../output_data/cities_data.csv\", index=False, header = True)"
   ]
  },
  {
   "cell_type": "markdown",
   "metadata": {},
   "source": [
    "## Inspect the data and remove the cities where the humidity > 100%.\n",
    "----\n",
    "Skip this step if there are no cities that have humidity > 100%. "
   ]
  },
  {
   "cell_type": "code",
   "execution_count": 62,
   "metadata": {},
   "outputs": [
    {
     "data": {
      "text/html": [
       "<div>\n",
       "<style scoped>\n",
       "    .dataframe tbody tr th:only-of-type {\n",
       "        vertical-align: middle;\n",
       "    }\n",
       "\n",
       "    .dataframe tbody tr th {\n",
       "        vertical-align: top;\n",
       "    }\n",
       "\n",
       "    .dataframe thead th {\n",
       "        text-align: right;\n",
       "    }\n",
       "</style>\n",
       "<table border=\"1\" class=\"dataframe\">\n",
       "  <thead>\n",
       "    <tr style=\"text-align: right;\">\n",
       "      <th></th>\n",
       "      <th>City_ID</th>\n",
       "      <th>Cloudiness</th>\n",
       "      <th>Date</th>\n",
       "      <th>Humidity</th>\n",
       "      <th>Latitude</th>\n",
       "      <th>Longitude</th>\n",
       "      <th>Max Temperature</th>\n",
       "      <th>Wind Speed</th>\n",
       "    </tr>\n",
       "  </thead>\n",
       "  <tbody>\n",
       "    <tr>\n",
       "      <th>count</th>\n",
       "      <td>558.000000</td>\n",
       "      <td>558.000000</td>\n",
       "      <td>5.580000e+02</td>\n",
       "      <td>558.000000</td>\n",
       "      <td>558.000000</td>\n",
       "      <td>558.000000</td>\n",
       "      <td>558.000000</td>\n",
       "      <td>558.000000</td>\n",
       "    </tr>\n",
       "    <tr>\n",
       "      <th>mean</th>\n",
       "      <td>279.500000</td>\n",
       "      <td>60.553763</td>\n",
       "      <td>1.635651e+09</td>\n",
       "      <td>72.761649</td>\n",
       "      <td>19.756149</td>\n",
       "      <td>16.619444</td>\n",
       "      <td>60.010323</td>\n",
       "      <td>7.562688</td>\n",
       "    </tr>\n",
       "    <tr>\n",
       "      <th>std</th>\n",
       "      <td>161.224998</td>\n",
       "      <td>40.256892</td>\n",
       "      <td>2.032316e+02</td>\n",
       "      <td>20.838151</td>\n",
       "      <td>32.509562</td>\n",
       "      <td>89.732936</td>\n",
       "      <td>20.612441</td>\n",
       "      <td>5.694056</td>\n",
       "    </tr>\n",
       "    <tr>\n",
       "      <th>min</th>\n",
       "      <td>1.000000</td>\n",
       "      <td>0.000000</td>\n",
       "      <td>1.635650e+09</td>\n",
       "      <td>1.000000</td>\n",
       "      <td>-54.800000</td>\n",
       "      <td>-175.200000</td>\n",
       "      <td>-8.210000</td>\n",
       "      <td>0.000000</td>\n",
       "    </tr>\n",
       "    <tr>\n",
       "      <th>25%</th>\n",
       "      <td>140.250000</td>\n",
       "      <td>16.250000</td>\n",
       "      <td>1.635651e+09</td>\n",
       "      <td>62.000000</td>\n",
       "      <td>-7.200250</td>\n",
       "      <td>-64.843075</td>\n",
       "      <td>47.575000</td>\n",
       "      <td>3.530000</td>\n",
       "    </tr>\n",
       "    <tr>\n",
       "      <th>50%</th>\n",
       "      <td>279.500000</td>\n",
       "      <td>75.000000</td>\n",
       "      <td>1.635651e+09</td>\n",
       "      <td>77.000000</td>\n",
       "      <td>24.577200</td>\n",
       "      <td>20.840450</td>\n",
       "      <td>65.230000</td>\n",
       "      <td>6.210000</td>\n",
       "    </tr>\n",
       "    <tr>\n",
       "      <th>75%</th>\n",
       "      <td>418.750000</td>\n",
       "      <td>100.000000</td>\n",
       "      <td>1.635651e+09</td>\n",
       "      <td>89.000000</td>\n",
       "      <td>45.259450</td>\n",
       "      <td>95.182725</td>\n",
       "      <td>75.692500</td>\n",
       "      <td>10.232500</td>\n",
       "    </tr>\n",
       "    <tr>\n",
       "      <th>max</th>\n",
       "      <td>558.000000</td>\n",
       "      <td>100.000000</td>\n",
       "      <td>1.635651e+09</td>\n",
       "      <td>100.000000</td>\n",
       "      <td>78.218600</td>\n",
       "      <td>179.316700</td>\n",
       "      <td>98.940000</td>\n",
       "      <td>33.380000</td>\n",
       "    </tr>\n",
       "  </tbody>\n",
       "</table>\n",
       "</div>"
      ],
      "text/plain": [
       "          City_ID  Cloudiness          Date    Humidity    Latitude  \\\n",
       "count  558.000000  558.000000  5.580000e+02  558.000000  558.000000   \n",
       "mean   279.500000   60.553763  1.635651e+09   72.761649   19.756149   \n",
       "std    161.224998   40.256892  2.032316e+02   20.838151   32.509562   \n",
       "min      1.000000    0.000000  1.635650e+09    1.000000  -54.800000   \n",
       "25%    140.250000   16.250000  1.635651e+09   62.000000   -7.200250   \n",
       "50%    279.500000   75.000000  1.635651e+09   77.000000   24.577200   \n",
       "75%    418.750000  100.000000  1.635651e+09   89.000000   45.259450   \n",
       "max    558.000000  100.000000  1.635651e+09  100.000000   78.218600   \n",
       "\n",
       "        Longitude  Max Temperature  Wind Speed  \n",
       "count  558.000000       558.000000  558.000000  \n",
       "mean    16.619444        60.010323    7.562688  \n",
       "std     89.732936        20.612441    5.694056  \n",
       "min   -175.200000        -8.210000    0.000000  \n",
       "25%    -64.843075        47.575000    3.530000  \n",
       "50%     20.840450        65.230000    6.210000  \n",
       "75%     95.182725        75.692500   10.232500  \n",
       "max    179.316700        98.940000   33.380000  "
      ]
     },
     "execution_count": 62,
     "metadata": {},
     "output_type": "execute_result"
    }
   ],
   "source": [
    "weather_data.describe()"
   ]
  },
  {
   "cell_type": "code",
   "execution_count": 63,
   "metadata": {},
   "outputs": [
    {
     "data": {
      "text/html": [
       "<div>\n",
       "<style scoped>\n",
       "    .dataframe tbody tr th:only-of-type {\n",
       "        vertical-align: middle;\n",
       "    }\n",
       "\n",
       "    .dataframe tbody tr th {\n",
       "        vertical-align: top;\n",
       "    }\n",
       "\n",
       "    .dataframe thead th {\n",
       "        text-align: right;\n",
       "    }\n",
       "</style>\n",
       "<table border=\"1\" class=\"dataframe\">\n",
       "  <thead>\n",
       "    <tr style=\"text-align: right;\">\n",
       "      <th></th>\n",
       "      <th>City_ID</th>\n",
       "      <th>City</th>\n",
       "      <th>Cloudiness</th>\n",
       "      <th>Country</th>\n",
       "      <th>Date</th>\n",
       "      <th>Humidity</th>\n",
       "      <th>Latitude</th>\n",
       "      <th>Longitude</th>\n",
       "      <th>Max Temperature</th>\n",
       "      <th>Wind Speed</th>\n",
       "    </tr>\n",
       "  </thead>\n",
       "  <tbody>\n",
       "  </tbody>\n",
       "</table>\n",
       "</div>"
      ],
      "text/plain": [
       "Empty DataFrame\n",
       "Columns: [City_ID, City, Cloudiness, Country, Date, Humidity, Latitude, Longitude, Max Temperature, Wind Speed]\n",
       "Index: []"
      ]
     },
     "execution_count": 63,
     "metadata": {},
     "output_type": "execute_result"
    }
   ],
   "source": [
    "\n",
    "#  Get the indices of cities that have humidity over 100%.\n",
    "weather_high_humidity = weather_data.loc[weather_data[\"Humidity\"]>100]\n",
    "weather_high_humidity"
   ]
  },
  {
   "cell_type": "code",
   "execution_count": 64,
   "metadata": {},
   "outputs": [],
   "source": [
    "# Make a new DataFrame equal to the city data to drop all humidity outliers by index.\n",
    "# Passing \"inplace=False\" will make a copy of the city_data DataFrame, which we call \"clean_city_data\".\n"
   ]
  },
  {
   "cell_type": "markdown",
   "metadata": {},
   "source": [
    "## Plotting the Data\n",
    "* Use proper labeling of the plots using plot titles (including date of analysis) and axes labels.\n",
    "* Save the plotted figures as .pngs."
   ]
  },
  {
   "cell_type": "markdown",
   "metadata": {},
   "source": [
    "## Latitude vs. Temperature Plot"
   ]
  },
  {
   "cell_type": "code",
   "execution_count": 65,
   "metadata": {
    "scrolled": true
   },
   "outputs": [
    {
     "data": {
      "image/png": "[encoded data removed]",
      "text/plain": [
       "<Figure size 432x288 with 1 Axes>"
      ]
     },
     "metadata": {
      "needs_background": "light"
     },
     "output_type": "display_data"
    }
   ],
   "source": [
    "plt.scatter(weather_data[\"Latitude\"], weather_data[\"Max Temperature\"], marker=\"o\", facecolors=\"red\", edgecolors=\"black\")\n",
    "plt.title(\"City Latitude vs. Max Temperature\")\n",
    "plt.xlabel('Latitude')\n",
    "plt.ylabel('Temperature')\n",
    "\n",
    "plt.tight_layout()\n",
    "plt.savefig(\"../output_data/Lat_Temp.png\")\n",
    "plt.show()"
   ]
  },
  {
   "cell_type": "markdown",
   "metadata": {},
   "source": [
    "Comments\n",
    "* Temperatures are high as it is closest to equator where Latitude = 0 and as it gets further away from the equator temperature is dropping.\n",
    "* Northern hemisphere show more drop in temperature as it gets further away from the equator than southern hemishpere."
   ]
  },
  {
   "cell_type": "markdown",
   "metadata": {},
   "source": [
    "## Latitude vs. Humidity Plot"
   ]
  },
  {
   "cell_type": "code",
   "execution_count": 66,
   "metadata": {},
   "outputs": [
    {
     "data": {
      "image/png": "[encoded data removed]",
      "text/plain": [
       "<Figure size 432x288 with 1 Axes>"
      ]
     },
     "metadata": {
      "needs_background": "light"
     },
     "output_type": "display_data"
    }
   ],
   "source": [
    "plt.scatter(weather_data[\"Latitude\"], weather_data[\"Humidity\"], marker=\"o\", facecolors=\"red\", edgecolors=\"black\")\n",
    "plt.title(\"City Latitude vs. Humidity\")\n",
    "plt.xlabel('Latitude')\n",
    "plt.ylabel('Humidity')\n",
    "\n",
    "plt.tight_layout()\n",
    "plt.savefig(\"../output_data/Lat_Humidity.png\")\n",
    "plt.show()"
   ]
  },
  {
   "cell_type": "markdown",
   "metadata": {},
   "source": [
    "Comments\n",
    "* No significant relationship between humidity and latitude has been observed.\n",
    "* Average humidity is 72"
   ]
  },
  {
   "cell_type": "markdown",
   "metadata": {},
   "source": [
    "## Latitude vs. Cloudiness Plot"
   ]
  },
  {
   "cell_type": "code",
   "execution_count": 67,
   "metadata": {},
   "outputs": [
    {
     "data": {
      "image/png": "[encoded data removed]",
      "text/plain": [
       "<Figure size 432x288 with 1 Axes>"
      ]
     },
     "metadata": {
      "needs_background": "light"
     },
     "output_type": "display_data"
    }
   ],
   "source": [
    "plt.scatter(weather_data[\"Latitude\"], weather_data[\"Cloudiness\"], marker=\"o\", facecolors=\"red\", edgecolors=\"black\")\n",
    "plt.title(\"City Latitude vs. Cloudiness\")\n",
    "plt.xlabel('Latitude')\n",
    "plt.ylabel('Cloudiness')\n",
    "\n",
    "\n",
    "plt.tight_layout()\n",
    "plt.savefig(\"../output_data/Lat_Cloud.png\")\n",
    "plt.show()"
   ]
  },
  {
   "cell_type": "markdown",
   "metadata": {},
   "source": [
    "Comments\n",
    "* No significant relationship between cloudiness and latitude has been observed."
   ]
  },
  {
   "cell_type": "markdown",
   "metadata": {},
   "source": [
    "## Latitude vs. Wind Speed Plot"
   ]
  },
  {
   "cell_type": "code",
   "execution_count": 68,
   "metadata": {},
   "outputs": [
    {
     "data": {
      "image/png": "[encoded data removed]",
      "text/plain": [
       "<Figure size 432x288 with 1 Axes>"
      ]
     },
     "metadata": {
      "needs_background": "light"
     },
     "output_type": "display_data"
    }
   ],
   "source": [
    "plt.scatter(weather_data[\"Latitude\"], weather_data[\"Wind Speed\"], marker=\"o\", facecolors=\"red\", edgecolors=\"black\")\n",
    "plt.title(\"City Latitude vs. Wind Speed\")\n",
    "plt.xlabel('Latitude')\n",
    "plt.ylabel('Wind Speed')\n",
    "\n",
    "\n",
    "plt.tight_layout()\n",
    "plt.savefig(\"../output_data/Lat_Wind.png\")\n",
    "plt.show()"
   ]
  },
  {
   "cell_type": "markdown",
   "metadata": {},
   "source": [
    "Comments\n",
    "* No significant relationship between wind speed and latitude has been observed."
   ]
  },
  {
   "cell_type": "markdown",
   "metadata": {},
   "source": [
    "## Linear Regression"
   ]
  },
  {
   "cell_type": "code",
   "execution_count": 69,
   "metadata": {},
   "outputs": [],
   "source": [
    "# Separate the plots into Northern Hemisphere (greater than or equal to 0 degrees latitude)\n",
    "# Southern Hemisphere (less than 0 degrees latitude)\n",
    "\n",
    "North_hem_df = weather_data.loc[weather_data[\"Latitude\"]>=0]\n",
    "# print(North_hem_df)\n",
    "South_hem_df = weather_data.loc[weather_data[\"Latitude\"]<0]\n",
    "# print(South_hem_df)"
   ]
  },
  {
   "cell_type": "markdown",
   "metadata": {},
   "source": [
    "####  Northern Hemisphere - Max Temp vs. Latitude Linear Regression"
   ]
  },
  {
   "cell_type": "code",
   "execution_count": 70,
   "metadata": {},
   "outputs": [
    {
     "name": "stdout",
     "output_type": "stream",
     "text": [
      "The r-squared is: 0.771380483036329\n"
     ]
    },
    {
     "data": {
      "image/png": "[encoded data removed]",
      "text/plain": [
       "<Figure size 432x288 with 1 Axes>"
      ]
     },
     "metadata": {
      "needs_background": "light"
     },
     "output_type": "display_data"
    }
   ],
   "source": [
    "x_values = North_hem_df[\"Latitude\"]\n",
    "y_values = North_hem_df[\"Max Temperature\"]\n",
    "(slope, intercept, rvalue, pvalue, stderr) = linregress(x_values, y_values)\n",
    "regress_values = x_values * slope + intercept\n",
    "line_eq = \"y = \" + str(round(slope,2)) + \"x + \" + str(round(intercept,2))\n",
    "plt.scatter(x_values,y_values)\n",
    "plt.plot(x_values,regress_values,\"r-\")\n",
    "plt.annotate(line_eq,(30,25),fontsize=15,color=\"red\")\n",
    "plt.title(\"Northern Hemisphere - Max Temp vs. Latitude Linear Regression\")\n",
    "plt.xlabel('Latitude')\n",
    "plt.ylabel('Max Temperature')\n",
    "print(f\"The r-squared is: {rvalue**2}\")\n",
    "plt.show()"
   ]
  },
  {
   "cell_type": "markdown",
   "metadata": {},
   "source": [
    "* There is a considerable correlation between temperature and latitude in northern hemisphere."
   ]
  },
  {
   "cell_type": "markdown",
   "metadata": {},
   "source": [
    "####  Southern Hemisphere - Max Temp vs. Latitude Linear Regression"
   ]
  },
  {
   "cell_type": "code",
   "execution_count": 81,
   "metadata": {},
   "outputs": [
    {
     "name": "stdout",
     "output_type": "stream",
     "text": [
      "The r-squared is: 0.44928722218925327\n"
     ]
    },
    {
     "data": {
      "image/png": "[encoded data removed]",
      "text/plain": [
       "<Figure size 432x288 with 1 Axes>"
      ]
     },
     "metadata": {
      "needs_background": "light"
     },
     "output_type": "display_data"
    }
   ],
   "source": [
    "x_values = South_hem_df[\"Latitude\"]\n",
    "y_values = South_hem_df[\"Max Temperature\"]\n",
    "(slope, intercept, rvalue, pvalue, stderr) = linregress(x_values, y_values)\n",
    "regress_values = x_values * slope + intercept\n",
    "line_eq = \"y = \" + str(round(slope,2)) + \"x + \" + str(round(intercept,2))\n",
    "plt.scatter(x_values,y_values)\n",
    "plt.plot(x_values,regress_values,\"r-\")\n",
    "plt.annotate(line_eq,(-30,70),fontsize=15,color=\"red\")\n",
    "plt.title(\"Southern Hemisphere - Max Temp vs. Latitude Linear Regression\")\n",
    "plt.xlabel('Latitude')\n",
    "plt.ylabel('Max Temperature')\n",
    "print(f\"The r-squared is: {rvalue**2}\")\n",
    "plt.show()"
   ]
  },
  {
   "cell_type": "markdown",
   "metadata": {},
   "source": [
    "* There is a correlation between temperature and latitude in southern hemisphere but less than it is with northern hemisphere."
   ]
  },
  {
   "cell_type": "markdown",
   "metadata": {},
   "source": [
    "####  Northern Hemisphere - Humidity (%) vs. Latitude Linear Regression"
   ]
  },
  {
   "cell_type": "code",
   "execution_count": 82,
   "metadata": {},
   "outputs": [
    {
     "name": "stdout",
     "output_type": "stream",
     "text": [
      "The r-squared is: 0.06867560072208306\n"
     ]
    },
    {
     "data": {
      "image/png": "[encoded data removed]",
      "text/plain": [
       "<Figure size 432x288 with 1 Axes>"
      ]
     },
     "metadata": {
      "needs_background": "light"
     },
     "output_type": "display_data"
    }
   ],
   "source": [
    "x_values = North_hem_df[\"Latitude\"]\n",
    "y_values = North_hem_df[\"Humidity\"]\n",
    "(slope, intercept, rvalue, pvalue, stderr) = linregress(x_values, y_values)\n",
    "regress_values = x_values * slope + intercept\n",
    "line_eq = \"y = \" + str(round(slope,2)) + \"x + \" + str(round(intercept,2))\n",
    "plt.scatter(x_values,y_values)\n",
    "plt.plot(x_values,regress_values,\"r-\")\n",
    "plt.annotate(line_eq,(10,80),fontsize=15,color=\"red\")\n",
    "plt.title(\"Northern Hemisphere - Humidity (%) vs. Latitude Linear Regression\")\n",
    "plt.xlabel('Latitude')\n",
    "plt.ylabel('Humidity (%)')\n",
    "print(f\"The r-squared is: {rvalue**2}\")\n",
    "plt.show()"
   ]
  },
  {
   "cell_type": "markdown",
   "metadata": {},
   "source": [
    "* There is little or no correlation between humidity and latitude for both northern and southern hemisphere."
   ]
  },
  {
   "cell_type": "markdown",
   "metadata": {},
   "source": [
    "####  Southern Hemisphere - Humidity (%) vs. Latitude Linear Regression"
   ]
  },
  {
   "cell_type": "code",
   "execution_count": 83,
   "metadata": {},
   "outputs": [
    {
     "name": "stdout",
     "output_type": "stream",
     "text": [
      "The r-squared is: 0.020869122384399585\n"
     ]
    },
    {
     "data": {
      "image/png": "[encoded data removed]",
      "text/plain": [
       "<Figure size 432x288 with 1 Axes>"
      ]
     },
     "metadata": {
      "needs_background": "light"
     },
     "output_type": "display_data"
    }
   ],
   "source": [
    "x_values = South_hem_df[\"Latitude\"]\n",
    "y_values = South_hem_df[\"Humidity\"]\n",
    "(slope, intercept, rvalue, pvalue, stderr) = linregress(x_values, y_values)\n",
    "regress_values = x_values * slope + intercept\n",
    "line_eq = \"y = \" + str(round(slope,2)) + \"x + \" + str(round(intercept,2))\n",
    "plt.scatter(x_values,y_values)\n",
    "plt.plot(x_values,regress_values,\"r-\")\n",
    "plt.annotate(line_eq,(-30,80),fontsize=15,color=\"red\")\n",
    "plt.title(\"Northern Hemisphere - Humidity (%) vs. Latitude Linear Regression\")\n",
    "plt.xlabel('Latitude')\n",
    "plt.ylabel('Humidity (%)')\n",
    "print(f\"The r-squared is: {rvalue**2}\")\n",
    "plt.show()"
   ]
  },
  {
   "cell_type": "markdown",
   "metadata": {},
   "source": [
    "* There is less or no correlation between humidity and latitude for both northern and southern hemisphere."
   ]
  },
  {
   "cell_type": "markdown",
   "metadata": {},
   "source": [
    "####  Northern Hemisphere - Cloudiness (%) vs. Latitude Linear Regression"
   ]
  },
  {
   "cell_type": "code",
   "execution_count": 84,
   "metadata": {},
   "outputs": [
    {
     "name": "stdout",
     "output_type": "stream",
     "text": [
      "The r-squared is: 0.028597413651458962\n"
     ]
    },
    {
     "data": {
      "image/png": "[encoded data removed]",
      "text/plain": [
       "<Figure size 432x288 with 1 Axes>"
      ]
     },
     "metadata": {
      "needs_background": "light"
     },
     "output_type": "display_data"
    }
   ],
   "source": [
    "x_values = North_hem_df[\"Latitude\"]\n",
    "y_values = North_hem_df[\"Cloudiness\"]\n",
    "(slope, intercept, rvalue, pvalue, stderr) = linregress(x_values, y_values)\n",
    "regress_values = x_values * slope + intercept\n",
    "line_eq = \"y = \" + str(round(slope,2)) + \"x + \" + str(round(intercept,2))\n",
    "plt.scatter(x_values,y_values)\n",
    "plt.plot(x_values,regress_values,\"r-\")\n",
    "plt.annotate(line_eq,(30,25),fontsize=15,color=\"red\")\n",
    "plt.title(\"Northern Hemisphere - Cloudiness (%) vs. Latitude Linear Regression\")\n",
    "plt.xlabel('Latitude')\n",
    "plt.ylabel('Cloudiness (%)')\n",
    "print(f\"The r-squared is: {rvalue**2}\")\n",
    "plt.show()"
   ]
  },
  {
   "cell_type": "markdown",
   "metadata": {},
   "source": [
    "* There is less or no correlation between cloudiness and latitude for both northern and southern hemisphere."
   ]
  },
  {
   "cell_type": "markdown",
   "metadata": {},
   "source": [
    "####  Southern Hemisphere - Cloudiness (%) vs. Latitude Linear Regression"
   ]
  },
  {
   "cell_type": "code",
   "execution_count": 85,
   "metadata": {},
   "outputs": [
    {
     "name": "stdout",
     "output_type": "stream",
     "text": [
      "The r-squared is: 0.027445829226732315\n"
     ]
    },
    {
     "data": {
      "image/png": "[encoded data removed]",
      "text/plain": [
       "<Figure size 432x288 with 1 Axes>"
      ]
     },
     "metadata": {
      "needs_background": "light"
     },
     "output_type": "display_data"
    }
   ],
   "source": [
    "x_values = South_hem_df[\"Latitude\"]\n",
    "y_values = South_hem_df[\"Cloudiness\"]\n",
    "(slope, intercept, rvalue, pvalue, stderr) = linregress(x_values, y_values)\n",
    "regress_values = x_values * slope + intercept\n",
    "line_eq = \"y = \" + str(round(slope,2)) + \"x + \" + str(round(intercept,2))\n",
    "plt.scatter(x_values,y_values)\n",
    "plt.plot(x_values,regress_values,\"r-\")\n",
    "plt.annotate(line_eq,(-30,90),fontsize=15,color=\"red\")\n",
    "plt.title(\"Southern Hemisphere - Cloudiness (%) vs. Latitude Linear Regression\")\n",
    "plt.xlabel('Latitude')\n",
    "plt.ylabel('Cloudiness (%)')\n",
    "print(f\"The r-squared is: {rvalue**2}\")\n",
    "plt.show()"
   ]
  },
  {
   "cell_type": "markdown",
   "metadata": {},
   "source": [
    "* There is less or no correlation between cloudiness and latitude for both northern and southern hemisphere."
   ]
  },
  {
   "cell_type": "markdown",
   "metadata": {},
   "source": [
    "####  Northern Hemisphere - Wind Speed (mph) vs. Latitude Linear Regression"
   ]
  },
  {
   "cell_type": "code",
   "execution_count": 86,
   "metadata": {},
   "outputs": [
    {
     "name": "stdout",
     "output_type": "stream",
     "text": [
      "The r-squared is: 0.05363923897071092\n"
     ]
    },
    {
     "data": {
      "image/png": "[encoded data removed]",
      "text/plain": [
       "<Figure size 432x288 with 1 Axes>"
      ]
     },
     "metadata": {
      "needs_background": "light"
     },
     "output_type": "display_data"
    }
   ],
   "source": [
    "x_values = North_hem_df[\"Latitude\"]\n",
    "y_values = North_hem_df[\"Wind Speed\"]\n",
    "(slope, intercept, rvalue, pvalue, stderr) = linregress(x_values, y_values)\n",
    "regress_values = x_values * slope + intercept\n",
    "line_eq = \"y = \" + str(round(slope,5)) + \"x + \" + str(round(intercept,2))\n",
    "plt.scatter(x_values,y_values)\n",
    "plt.plot(x_values,regress_values,\"r-\")\n",
    "plt.annotate(line_eq,(10,5),fontsize=15,color=\"red\")\n",
    "plt.title(\"Northern Hemisphere - Wind Speed (mph) vs. Latitude Linear Regression\")\n",
    "plt.xlabel('Latitude')\n",
    "plt.ylabel('Wind Speed (mph)')\n",
    "print(f\"The r-squared is: {rvalue**2}\")\n",
    "plt.show()"
   ]
  },
  {
   "cell_type": "markdown",
   "metadata": {},
   "source": [
    "* There is less or no correlation between wind speed and latitude for both northern and southern hemisphere."
   ]
  },
  {
   "cell_type": "markdown",
   "metadata": {},
   "source": [
    "####  Southern Hemisphere - Wind Speed (mph) vs. Latitude Linear Regression"
   ]
  },
  {
   "cell_type": "code",
   "execution_count": 77,
   "metadata": {},
   "outputs": [
    {
     "name": "stdout",
     "output_type": "stream",
     "text": [
      "The r-squared is: 0.07060471901247835\n"
     ]
    },
    {
     "data": {
      "image/png": "[encoded data removed]",
      "text/plain": [
       "<Figure size 432x288 with 1 Axes>"
      ]
     },
     "metadata": {
      "needs_background": "light"
     },
     "output_type": "display_data"
    }
   ],
   "source": [
    "x_values = South_hem_df[\"Latitude\"]\n",
    "y_values = South_hem_df[\"Wind Speed\"]\n",
    "(slope, intercept, rvalue, pvalue, stderr) = linregress(x_values, y_values)\n",
    "regress_values = x_values * slope + intercept\n",
    "line_eq = \"y = \" + str(round(slope,2)) + \"x + \" + str(round(intercept,2))\n",
    "plt.scatter(x_values,y_values)\n",
    "plt.plot(x_values,regress_values,\"r-\")\n",
    "plt.annotate(line_eq,(-30,15),fontsize=15,color=\"red\")\n",
    "plt.title(\"Southern Hemisphere - Wind Speed (mph) vs. Latitude Linear Regression\")\n",
    "plt.xlabel('Latitude')\n",
    "plt.ylabel('Wind Speed (mph)')\n",
    "print(f\"The r-squared is: {rvalue**2}\")\n",
    "plt.show()"
   ]
  },
  {
   "cell_type": "markdown",
   "metadata": {},
   "source": [
    "* There is less or no correlation between wind speed and latitude for both northern and southern hemisphere."
   ]
  },
  {
   "cell_type": "code",
   "execution_count": null,
   "metadata": {},
   "outputs": [],
   "source": []
  }
 ],
 "metadata": {
  "anaconda-cloud": {},
  "kernel_info": {
   "name": "python3"
  },
  "kernelspec": {
   "display_name": "Python [conda env:PythonData] *",
   "language": "python",
   "name": "conda-env-PythonData-py"
  },
  "language_info": {
   "codemirror_mode": {
    "name": "ipython",
    "version": 3
   },
   "file_extension": ".py",
   "mimetype": "text/x-python",
   "name": "python",
   "nbconvert_exporter": "python",
   "pygments_lexer": "ipython3",
   "version": "3.8.11"
  },
  "latex_envs": {
   "LaTeX_envs_menu_present": true,
   "autoclose": false,
   "autocomplete": true,
   "bibliofile": "biblio.bib",
   "cite_by": "apalike",
   "current_citInitial": 1,
   "eqLabelWithNumbers": true,
   "eqNumInitial": 1,
   "hotkeys": {
    "equation": "Ctrl-E",
    "itemize": "Ctrl-I"
   },
   "labels_anchors": false,
   "latex_user_defs": false,
   "report_style_numbering": false,
   "user_envs_cfg": false
  },
  "nteract": {
   "version": "0.12.3"
  }
 },
 "nbformat": 4,
 "nbformat_minor": 2
}
